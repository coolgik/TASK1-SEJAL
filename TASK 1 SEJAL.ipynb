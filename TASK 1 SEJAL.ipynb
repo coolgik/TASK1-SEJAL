{
 "cells": [
  {
   "cell_type": "markdown",
   "metadata": {},
   "source": [
    "TASK 1\n",
    "\n",
    "1)BASIC PYTHON PROGRAMS:"
   ]
  },
  {
   "cell_type": "markdown",
   "metadata": {},
   "source": [
    "a) Print hello world:"
   ]
  },
  {
   "cell_type": "code",
   "execution_count": 2,
   "metadata": {},
   "outputs": [
    {
     "name": "stdout",
     "output_type": "stream",
     "text": [
      "hello world\n"
     ]
    }
   ],
   "source": [
    "print(\"hello world\")"
   ]
  },
  {
   "cell_type": "markdown",
   "metadata": {},
   "source": [
    "b)Addition of two numbers:"
   ]
  },
  {
   "cell_type": "code",
   "execution_count": 3,
   "metadata": {},
   "outputs": [
    {
     "name": "stdout",
     "output_type": "stream",
     "text": [
      "The sum of 18 and 20 is 38\n"
     ]
    }
   ],
   "source": [
    "num1 = 18\n",
    "num2 = 20\n",
    "\n",
    "sum = num1 + num2\n",
    "\n",
    "print(f'The sum of {num1} and {num2} is {sum}')\n"
   ]
  },
  {
   "cell_type": "markdown",
   "metadata": {},
   "source": [
    "c)List:"
   ]
  },
  {
   "cell_type": "code",
   "execution_count": 4,
   "metadata": {},
   "outputs": [
    {
     "name": "stdout",
     "output_type": "stream",
     "text": [
      "8\n"
     ]
    }
   ],
   "source": [
    "basket = [1,2,3,4,5,6,7,8]\n",
    "print(len(basket))"
   ]
  },
  {
   "cell_type": "markdown",
   "metadata": {},
   "source": [
    "d)dictionary:"
   ]
  },
  {
   "cell_type": "code",
   "execution_count": 5,
   "metadata": {},
   "outputs": [
    {
     "name": "stdout",
     "output_type": "stream",
     "text": [
      "2\n"
     ]
    }
   ],
   "source": [
    "dict = {\n",
    "    'a' : 1,\n",
    "    'b' : 2\n",
    "}\n",
    "print(dict['b'])"
   ]
  },
  {
   "cell_type": "markdown",
   "metadata": {},
   "source": [
    "e)tuples:"
   ]
  },
  {
   "cell_type": "code",
   "execution_count": 6,
   "metadata": {},
   "outputs": [
    {
     "name": "stdout",
     "output_type": "stream",
     "text": [
      "True\n"
     ]
    }
   ],
   "source": [
    "my_tuple = (1,2,3,4,5,6,7,8)\n",
    "print(5 in my_tuple)"
   ]
  },
  {
   "cell_type": "markdown",
   "metadata": {},
   "source": [
    "f)sets:"
   ]
  },
  {
   "cell_type": "code",
   "execution_count": 7,
   "metadata": {},
   "outputs": [
    {
     "name": "stdout",
     "output_type": "stream",
     "text": [
      "{1, 2, 3, 4, 5, 6, 7, 8}\n"
     ]
    }
   ],
   "source": [
    "my_set = {1,2,3,4,5,6,7,8}\n",
    "print(my_set)"
   ]
  },
  {
   "cell_type": "markdown",
   "metadata": {},
   "source": [
    "g)if else statement:"
   ]
  },
  {
   "cell_type": "code",
   "execution_count": 8,
   "metadata": {},
   "outputs": [
    {
     "name": "stdout",
     "output_type": "stream",
     "text": [
      "you are old enough to drive the car\n"
     ]
    }
   ],
   "source": [
    "#car who detects whether the person is 18 or not\n",
    "is_old = True\n",
    "is_licensed = True\n",
    "\n",
    "if is_old:\n",
    "    print('you are old enough to drive the car')\n",
    "    \n",
    "elif is_licensed:\n",
    "    print('you can drive now')\n",
    "    \n",
    "else:\n",
    "    print('you are not of age')"
   ]
  },
  {
   "cell_type": "markdown",
   "metadata": {},
   "source": [
    "h)for loop:"
   ]
  },
  {
   "cell_type": "code",
   "execution_count": 9,
   "metadata": {},
   "outputs": [
    {
     "name": "stdout",
     "output_type": "stream",
     "text": [
      "tiger\n",
      "lion\n",
      "bear\n"
     ]
    }
   ],
   "source": [
    "animals = ['tiger','lion','bear']\n",
    "for z in animals:\n",
    "    print(z)"
   ]
  },
  {
   "cell_type": "markdown",
   "metadata": {},
   "source": [
    "i)While loop"
   ]
  },
  {
   "cell_type": "code",
   "execution_count": 10,
   "metadata": {},
   "outputs": [
    {
     "name": "stdout",
     "output_type": "stream",
     "text": [
      "1\n",
      "2\n",
      "3\n",
      "4\n",
      "5\n"
     ]
    }
   ],
   "source": [
    "i = 0\n",
    "while i < 5:\n",
    "    i = i + 1\n",
    "    print(i)"
   ]
  },
  {
   "cell_type": "markdown",
   "metadata": {},
   "source": [
    "2)PYTHON CODES USING PANDAS:"
   ]
  },
  {
   "cell_type": "code",
   "execution_count": 12,
   "metadata": {},
   "outputs": [
    {
     "name": "stdout",
     "output_type": "stream",
     "text": [
      "Requirement already satisfied: pandas in c:\\python.c\\lib\\site-packages (1.1.3)\n",
      "Requirement already satisfied: numpy>=1.15.4 in c:\\python.c\\lib\\site-packages (from pandas) (1.19.2)\n",
      "Requirement already satisfied: python-dateutil>=2.7.3 in c:\\python.c\\lib\\site-packages (from pandas) (2.8.1)\n",
      "Requirement already satisfied: pytz>=2017.2 in c:\\python.c\\lib\\site-packages (from pandas) (2020.1)\n",
      "Requirement already satisfied: six>=1.5 in c:\\python.c\\lib\\site-packages (from python-dateutil>=2.7.3->pandas) (1.15.0)\n",
      "Note: you may need to restart the kernel to use updated packages.\n"
     ]
    }
   ],
   "source": [
    "pip install pandas\n"
   ]
  },
  {
   "cell_type": "code",
   "execution_count": 13,
   "metadata": {},
   "outputs": [],
   "source": [
    "import pandas as pd"
   ]
  },
  {
   "cell_type": "markdown",
   "metadata": {},
   "source": [
    "a)To create a DataFrame with a list of dictionaries, row indices, and column indices."
   ]
  },
  {
   "cell_type": "code",
   "execution_count": 6,
   "metadata": {},
   "outputs": [
    {
     "name": "stdout",
     "output_type": "stream",
     "text": [
      "         a   b\n",
      "first    3   4\n",
      "second  15  10\n",
      "         a     c\n",
      "first    3   NaN\n",
      "second  15  25.0\n"
     ]
    }
   ],
   "source": [
    "import pandas as pd\n",
    "data = [{'a': 3, 'b': 4},{'a': 15, 'b': 10, 'c': 25}]\n",
    "\n",
    "#With two column indices, values same as dictionary keys\n",
    "df1 = pd.DataFrame(data, index=['first', 'second'], columns=['a', 'b'])\n",
    "\n",
    "#With two column indices with one index with other name\n",
    "df2 = pd.DataFrame(data, index=['first', 'second'], columns=['a', 'c'])\n",
    "print (df1)\n",
    "print (df2)"
   ]
  },
  {
   "cell_type": "markdown",
   "metadata": {},
   "source": [
    "b) To display the default index and set a column as an Index in a given dataframe."
   ]
  },
  {
   "cell_type": "code",
   "execution_count": 8,
   "metadata": {},
   "outputs": [
    {
     "name": "stdout",
     "output_type": "stream",
     "text": [
      "Default Index:\n",
      "  school_code class     name date_Of_Birth  weight  address t_id\n",
      "0         001     X    David    15/05/2000      38  street1   t1\n",
      "1         002     X  michael    17/05/2000      32  street2   t2\n",
      "2         003    XI     lily    16/02/2001      35  street3   t3\n",
      "3         001    XI     Emma    25/09/1999      30  street1   t4\n",
      "4         002     X    Rosey    11/05/2001      31  street2   t5\n",
      "5         004    XI     jack    15/09/1998      32  street4   t6\n",
      "\n",
      " school_code as new Index:\n",
      "            class     name date_Of_Birth  weight  address t_id\n",
      "school_code                                                   \n",
      "001             X    David    15/05/2000      38  street1   t1\n",
      "002             X  michael    17/05/2000      32  street2   t2\n",
      "003            XI     lily    16/02/2001      35  street3   t3\n",
      "001            XI     Emma    25/09/1999      30  street1   t4\n",
      "002             X    Rosey    11/05/2001      31  street2   t5\n",
      "004            XI     jack    15/09/1998      32  street4   t6\n",
      "\n",
      "t_id as new Index:\n",
      "     school_code class     name date_Of_Birth  weight  address\n",
      "t_id                                                          \n",
      "t1           001     X    David    15/05/2000      38  street1\n",
      "t2           002     X  michael    17/05/2000      32  street2\n",
      "t3           003    XI     lily    16/02/2001      35  street3\n",
      "t4           001    XI     Emma    25/09/1999      30  street1\n",
      "t5           002     X    Rosey    11/05/2001      31  street2\n",
      "t6           004    XI     jack    15/09/1998      32  street4\n"
     ]
    }
   ],
   "source": [
    "import pandas as pd\n",
    "df = pd.DataFrame({\n",
    "    'school_code': ['001','002','003','001','002','004'],\n",
    "    'class': ['X', 'X', 'XI', 'XI', 'X', 'XI'],\n",
    "    'name': ['David','michael','lily', 'Emma', 'Rosey', 'jack'],\n",
    "    'date_Of_Birth': ['15/05/2000','17/05/2000','16/02/2001','25/09/1999','11/05/2001','15/09/1998'],\n",
    "    'weight': [38, 32, 35, 30, 31, 32],\n",
    "    'address': ['street1', 'street2', 'street3', 'street1', 'street2', 'street4'],\n",
    "    't_id':['p1', 'p2', 'p3', 'p4', 'p5', 'p6']})\n",
    "print(\"Default Index:\")\n",
    "print(df.head(10))\n",
    "print(\"\\n school_code as new Index:\")\n",
    "df1 = df.set_index('school_code')\n",
    "print(df1)\n",
    "print(\"\\nt_id as new Index:\")\n",
    "df2 = df.set_index('t_id')\n",
    "print(df2)"
   ]
  },
  {
   "cell_type": "markdown",
   "metadata": {},
   "source": [
    "c)Basic plotting:plot"
   ]
  },
  {
   "cell_type": "code",
   "execution_count": 22,
   "metadata": {},
   "outputs": [
    {
     "data": {
      "text/plain": [
       "<AxesSubplot:>"
      ]
     },
     "execution_count": 22,
     "metadata": {},
     "output_type": "execute_result"
    },
    {
     "data": {
      "image/png": "[encoded data removed]",
      "text/plain": [
       "<Figure size 432x288 with 1 Axes>"
      ]
     },
     "metadata": {
      "needs_background": "light"
     },
     "output_type": "display_data"
    }
   ],
   "source": [
    "import pandas as pd\n",
    "import numpy as np\n",
    "\n",
    "df = pd.DataFrame(np.random.randn(10,4),index=pd.date_range('1/1/2000',\n",
    "   periods=10), columns=list('DEFG'))\n",
    "\n",
    "df.plot()"
   ]
  },
  {
   "cell_type": "markdown",
   "metadata": {},
   "source": [
    "3)PYTHON CODES USING NUMPY:"
   ]
  },
  {
   "cell_type": "code",
   "execution_count": 24,
   "metadata": {},
   "outputs": [
    {
     "name": "stdout",
     "output_type": "stream",
     "text": [
      "Requirement already satisfied: numpy in c:\\python.c\\lib\\site-packages (1.19.2)\n",
      "Note: you may need to restart the kernel to use updated packages.\n"
     ]
    }
   ],
   "source": [
    "pip install numpy"
   ]
  },
  {
   "cell_type": "markdown",
   "metadata": {},
   "source": [
    "a)Python code to demonstrate matrix operations\n",
    "  add(),subtract(),divide(),multiplication()\n"
   ]
  },
  {
   "cell_type": "code",
   "execution_count": 31,
   "metadata": {},
   "outputs": [
    {
     "name": "stdout",
     "output_type": "stream",
     "text": [
      "The addition of matrix is : \n",
      "[[ 8 10]\n",
      " [13 15]]\n",
      "The subtraction of matrix is : \n",
      "[[-6 -6]\n",
      " [-5 -5]]\n",
      "The division of matrix is : \n",
      "[[0.14285714 0.25      ]\n",
      " [0.44444444 0.5       ]]\n",
      "The multiplication of matrix is : \n",
      "[[ 7 16]\n",
      " [36 50]]\n"
     ]
    }
   ],
   "source": [
    "import numpy as np\n",
    "  \n",
    "# initializing matrices\n",
    "A = np.array([[1, 2], [4, 5]])\n",
    "B = np.array([[7, 8], [9, 10]])\n",
    "  \n",
    "# using add() to add matrices\n",
    "print (\"The addition of matrix is : \")\n",
    "print (np.add(A,B))\n",
    "  \n",
    "# using subtract() to subtract matrices\n",
    "print (\"The subtraction of matrix is : \")\n",
    "print (np.subtract(A,B))\n",
    "  \n",
    "# using divide() to divide matrices\n",
    "print (\"The division of matrix is : \")\n",
    "print (np.divide(A,B))\n",
    "\n",
    "# using mul() to multiply matrices\n",
    "print (\"The multiplication of matrix is : \")\n",
    "print (np.multiply(A,B))\n",
    "\n"
   ]
  },
  {
   "cell_type": "markdown",
   "metadata": {},
   "source": [
    "b)To calculate the difference between the maximum and the minimum values of a given array along the second axis."
   ]
  },
  {
   "cell_type": "code",
   "execution_count": 38,
   "metadata": {},
   "outputs": [
    {
     "name": "stdout",
     "output_type": "stream",
     "text": [
      "\n",
      " Original array:\n",
      "[[0 1 2 3 4]\n",
      " [5 6 7 8 9]]\n",
      "\n",
      "Difference between the maximum and the minimum values of the array:\n",
      "[5 5]\n"
     ]
    }
   ],
   "source": [
    "import numpy as np\n",
    "A = np.arange(10).reshape((2, 5))\n",
    "print(\"\\n Original array:\")\n",
    "print(A)\n",
    "p1 = np.ptp(A, 1)\n",
    "p2 = np.amax(A, 1) - np.amin(A, 1)\n",
    "assert np.allclose(p1, p2)\n",
    "print(\"\\n The Difference between the maximum and the minimum values of the array:\")\n",
    "print(r1)"
   ]
  },
  {
   "cell_type": "markdown",
   "metadata": {},
   "source": [
    "c) Python program to print nXn,checkerboard pattern using numpy."
   ]
  },
  {
   "cell_type": "code",
   "execution_count": 40,
   "metadata": {},
   "outputs": [
    {
     "name": "stdout",
     "output_type": "stream",
     "text": [
      "Checkerboard pattern:\n",
      "0 1 0 1 0 1 0 1 \n",
      "1 0 1 0 1 0 1 0 \n",
      "0 1 0 1 0 1 0 1 \n",
      "1 0 1 0 1 0 1 0 \n",
      "0 1 0 1 0 1 0 1 \n",
      "1 0 1 0 1 0 1 0 \n",
      "0 1 0 1 0 1 0 1 \n",
      "1 0 1 0 1 0 1 0 \n"
     ]
    }
   ],
   "source": [
    "# Python program to print nXn\n",
    "# checkerboard pattern using numpy\n",
    "import numpy as np\n",
    "  \n",
    "# function to print Checkerboard pattern\n",
    "def printcheckboard(x):\n",
    "      \n",
    "    print(\"Checkerboard pattern:\")\n",
    "  \n",
    "    # create a x * x matrix\n",
    "    z = np.zeros((x, x), dtype = int)\n",
    "  \n",
    "    # fill with 1 the alternate rows and columns\n",
    "    z[1::2, ::2] = 1\n",
    "    z[::2, 1::2] = 1\n",
    "      \n",
    "    # print the pattern\n",
    "    for i in range(x):\n",
    "        for j in range(x):\n",
    "            print(z[i][j], end =\" \") \n",
    "        print() \n",
    "  \n",
    "  \n",
    "# driver code\n",
    "x = 8\n",
    "printcheckboard(x)"
   ]
  },
  {
   "cell_type": "markdown",
   "metadata": {},
   "source": [
    "4)PYTHON PROGRAMS USING MATPLOTLIB:"
   ]
  },
  {
   "cell_type": "code",
   "execution_count": 41,
   "metadata": {},
   "outputs": [
    {
     "name": "stdout",
     "output_type": "stream",
     "text": [
      "Requirement already satisfied: matplotlib in c:\\python.c\\lib\\site-packages (3.3.2)\n",
      "Requirement already satisfied: certifi>=2020.06.20 in c:\\python.c\\lib\\site-packages (from matplotlib) (2020.6.20)\n",
      "Requirement already satisfied: cycler>=0.10 in c:\\python.c\\lib\\site-packages (from matplotlib) (0.10.0)\n",
      "Requirement already satisfied: python-dateutil>=2.1 in c:\\python.c\\lib\\site-packages (from matplotlib) (2.8.1)\n",
      "Requirement already satisfied: kiwisolver>=1.0.1 in c:\\python.c\\lib\\site-packages (from matplotlib) (1.3.0)\n",
      "Requirement already satisfied: pyparsing!=2.0.4,!=2.1.2,!=2.1.6,>=2.0.3 in c:\\python.c\\lib\\site-packages (from matplotlib) (2.4.7)\n",
      "Requirement already satisfied: pillow>=6.2.0 in c:\\python.c\\lib\\site-packages (from matplotlib) (8.0.1)\n",
      "Requirement already satisfied: numpy>=1.15 in c:\\python.c\\lib\\site-packages (from matplotlib) (1.19.2)\n",
      "Requirement already satisfied: six in c:\\python.c\\lib\\site-packages (from cycler>=0.10->matplotlib) (1.15.0)\n",
      "Note: you may need to restart the kernel to use updated packages.\n"
     ]
    }
   ],
   "source": [
    "pip install matplotlib"
   ]
  },
  {
   "cell_type": "markdown",
   "metadata": {},
   "source": [
    "a)Line plot:"
   ]
  },
  {
   "cell_type": "code",
   "execution_count": 57,
   "metadata": {},
   "outputs": [
    {
     "data": {
      "image/png": "[encoded data removed]",
      "text/plain": [
       "<Figure size 432x288 with 1 Axes>"
      ]
     },
     "metadata": {
      "needs_background": "light"
     },
     "output_type": "display_data"
    }
   ],
   "source": [
    "# importing matplotlib module \n",
    "from matplotlib import pyplot as plt\n",
    "  \n",
    "# x-axis values\n",
    "A = [1,2,3,4,5,6]\n",
    "\n",
    "# Y-axis values\n",
    "B = [1,5,3,5,7,8]\n",
    "  \n",
    "# Function to plot\n",
    "plt.plot(A,B)\n",
    "  \n",
    "# function to show the plot\n",
    "plt.show()"
   ]
  },
  {
   "cell_type": "markdown",
   "metadata": {},
   "source": [
    "b)Bar graph:"
   ]
  },
  {
   "cell_type": "code",
   "execution_count": 54,
   "metadata": {},
   "outputs": [
    {
     "data": {
      "image/png": "[encoded data removed]",
      "text/plain": [
       "<Figure size 432x288 with 1 Axes>"
      ]
     },
     "metadata": {
      "needs_background": "light"
     },
     "output_type": "display_data"
    }
   ],
   "source": [
    "from matplotlib import pyplot as plt\n",
    "  \n",
    "# x-axis values\n",
    "A = [6,3,2,8,4]\n",
    "  \n",
    "# Y-axis values\n",
    "B = [8,5,7,10,5]\n",
    "  \n",
    "# Function to plot the bar\n",
    "plt.bar(A,B)\n",
    "  \n",
    "# function to show the plot\n",
    "plt.show()\n"
   ]
  },
  {
   "cell_type": "markdown",
   "metadata": {},
   "source": [
    "c)Histogram:"
   ]
  },
  {
   "cell_type": "code",
   "execution_count": 56,
   "metadata": {},
   "outputs": [
    {
     "data": {
      "image/png": "[encoded data removed]",
      "text/plain": [
       "<Figure size 432x288 with 1 Axes>"
      ]
     },
     "metadata": {
      "needs_background": "light"
     },
     "output_type": "display_data"
    }
   ],
   "source": [
    "from matplotlib import pyplot as plt\n",
    "  \n",
    "# Y-axis values\n",
    "B = [6,3,2,4,8]\n",
    "  \n",
    "# Function to plot histogram\n",
    "plt.hist(B)\n",
    "  \n",
    "# Function to show the plot\n",
    "plt.show()"
   ]
  },
  {
   "cell_type": "code",
   "execution_count": null,
   "metadata": {},
   "outputs": [],
   "source": []
  }
 ],
 "metadata": {
  "kernelspec": {
   "display_name": "Python 3",
   "language": "python",
   "name": "python3"
  },
  "language_info": {
   "codemirror_mode": {
    "name": "ipython",
    "version": 3
   },
   "file_extension": ".py",
   "mimetype": "text/x-python",
   "name": "python",
   "nbconvert_exporter": "python",
   "pygments_lexer": "ipython3",
   "version": "3.8.5"
  }
 },
 "nbformat": 4,
 "nbformat_minor": 4
}
